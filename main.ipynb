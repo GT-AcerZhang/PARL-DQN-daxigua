{
 "cells": [
  {
   "cell_type": "markdown",
   "metadata": {
    "collapsed": false
   },
   "source": [
    "# 用DQN强化学习算法玩“合成大西瓜”！\n",
    "\n",
    "<iframe src=\"//player.bilibili.com/player.html?aid=586526003&bvid=BV1Tz4y1U7HE&cid=293880206&page=1\" scrolling=\"no\" border=\"0\" frameborder=\"no\" framespacing=\"0\" allowfullscreen=\"true\"> </iframe>\n",
    "\n",
    "<iframe src=\"//player.bilibili.com/player.html?aid=801504295&bvid=BV1Wy4y1n73E&cid=294254486&page=1\" scrolling=\"no\" border=\"0\" frameborder=\"no\" framespacing=\"0\" allowfullscreen=\"true\"> </iframe>\n",
    "\n",
    "<iframe src=\"//player.bilibili.com/player.html?aid=501711447&bvid=BV1gN411d7dr&cid=296365416&page=1\" scrolling=\"no\" border=\"0\" frameborder=\"no\" framespacing=\"0\" allowfullscreen=\"true\"> </iframe>"
   ]
  },
  {
   "cell_type": "markdown",
   "metadata": {
    "collapsed": false
   },
   "source": [
    "## 1. 安装依赖库"
   ]
  },
  {
   "cell_type": "markdown",
   "metadata": {
    "collapsed": false
   },
   "source": [
    "> 其中游戏代码使用pygame重构\n",
    "\n",
    "> 物理模块使用pymunk\n",
    "\n",
    "注：paddlepaddle版本为1.8.0，parl版本为1.3.1"
   ]
  },
  {
   "cell_type": "code",
   "execution_count": 1,
   "metadata": {
    "collapsed": false
   },
   "outputs": [],
   "source": [
    "# !pip install pygame -i https://mirror.baidu.com/pypi/simple\r\n",
    "# !pip install parl==1.3.1 -i https://mirror.baidu.com/pypi/simple\r\n",
    "# !pip install pymunk"
   ]
  },
  {
   "cell_type": "code",
   "execution_count": 2,
   "metadata": {
    "collapsed": false
   },
   "outputs": [],
   "source": [
    "# !unzip work/code.zip -d ./"
   ]
  },
  {
   "cell_type": "markdown",
   "metadata": {
    "collapsed": false
   },
   "source": [
    "## 2. 设置环境变量"
   ]
  },
  {
   "cell_type": "markdown",
   "metadata": {
    "collapsed": false
   },
   "source": [
    "> 由于notebook无法显示pygame界面，所以我们设置如下环境变量"
   ]
  },
  {
   "cell_type": "code",
   "execution_count": 3,
   "metadata": {
    "collapsed": false
   },
   "outputs": [],
   "source": [
    "import os\r\n",
    "os.putenv('SDL_VIDEODRIVER', 'fbcon')\r\n",
    "os.environ[\"SDL_VIDEODRIVER\"] = \"dummy\""
   ]
  },
  {
   "cell_type": "markdown",
   "metadata": {
    "collapsed": false
   },
   "source": [
    "## 3. 构建多层神经网络"
   ]
  },
  {
   "cell_type": "markdown",
   "metadata": {
    "collapsed": false
   },
   "source": [
    "> 该版本使用两层全连接层\n",
    "\n",
    "> 卷积神经网络版本为：https://aistudio.baidu.com/aistudio/projectdetail/1540300"
   ]
  },
  {
   "cell_type": "code",
   "execution_count": 4,
   "metadata": {
    "collapsed": false
   },
   "outputs": [
    {
     "name": "stderr",
     "output_type": "stream",
     "text": [
      "/opt/conda/envs/python35-paddle120-env/lib/python3.7/importlib/_bootstrap.py:219: RuntimeWarning: numpy.ufunc size changed, may indicate binary incompatibility. Expected 216, got 192\n",
      "  return f(*args, **kwds)\n",
      "/opt/conda/envs/python35-paddle120-env/lib/python3.7/importlib/_bootstrap.py:219: ImportWarning: can't resolve package from __spec__ or __package__, falling back on __name__ and __path__\n",
      "  return f(*args, **kwds)\n",
      "/opt/conda/envs/python35-paddle120-env/lib/python3.7/site-packages/pandas/core/tools/datetimes.py:3: DeprecationWarning: Using or importing the ABCs from 'collections' instead of from 'collections.abc' is deprecated, and in 3.8 it will stop working\n",
      "  from collections import MutableMapping\n",
      "/opt/conda/envs/python35-paddle120-env/lib/python3.7/site-packages/matplotlib/rcsetup.py:20: DeprecationWarning: Using or importing the ABCs from 'collections' instead of from 'collections.abc' is deprecated, and in 3.8 it will stop working\n",
      "  from collections import Iterable, Mapping\n",
      "/opt/conda/envs/python35-paddle120-env/lib/python3.7/site-packages/matplotlib/colors.py:53: DeprecationWarning: Using or importing the ABCs from 'collections' instead of from 'collections.abc' is deprecated, and in 3.8 it will stop working\n",
      "  from collections import Sized\n",
      "/opt/conda/envs/python35-paddle120-env/lib/python3.7/importlib/_bootstrap.py:219: RuntimeWarning: numpy.ufunc size changed, may indicate binary incompatibility. Expected 216, got 192\n",
      "  return f(*args, **kwds)\n",
      "/opt/conda/envs/python35-paddle120-env/lib/python3.7/importlib/_bootstrap.py:219: ImportWarning: can't resolve package from __spec__ or __package__, falling back on __name__ and __path__\n",
      "  return f(*args, **kwds)\n"
     ]
    }
   ],
   "source": [
    "import parl\r\n",
    "from parl import layers\r\n",
    "import paddle.fluid as fluid\r\n",
    "import copy\r\n",
    "import numpy as np\r\n",
    "import os\r\n",
    "from parl.utils import logger\r\n",
    "import random\r\n",
    "import collections\r\n",
    "\r\n",
    "LEARN_FREQ = 5 # 训练频率，不需要每一个step都learn，攒一些新增经验后再learn，提高效率\r\n",
    "MEMORY_SIZE = 20000    # replay memory的大小，越大越占用内存\r\n",
    "MEMORY_WARMUP_SIZE = 200  # replay_memory 里需要预存一些经验数据，再开启训练\r\n",
    "BATCH_SIZE = 32   # 每次给agent learn的数据数量，从replay memory随机里sample一批数据出来\r\n",
    "LEARNING_RATE = 0.001 # 学习率\r\n",
    "GAMMA = 0.99 # reward 的衰减因子，一般取 0.9 到 0.999 不等\r\n",
    "\r\n",
    "\r\n",
    "class Model(parl.Model):\r\n",
    "    def __init__(self, act_dim):\r\n",
    "        hid1_size = 256\r\n",
    "        hid2_size = 256\r\n",
    "        # 3层全连接网络\r\n",
    "        self.fc1 = layers.fc(size=hid1_size, act='relu')\r\n",
    "        self.fc2 = layers.fc(size=hid2_size, act='relu')\r\n",
    "        self.fc3 = layers.fc(size=act_dim, act=None)\r\n",
    "\r\n",
    "    def value(self, obs):\r\n",
    "        # 定义网络\r\n",
    "        # 输入state，输出所有action对应的Q，[Q(s,a1), Q(s,a2), Q(s,a3)...]\r\n",
    "        h1 = self.fc1(obs)\r\n",
    "        h2 = self.fc2(h1)\r\n",
    "        Q = self.fc3(h2)\r\n",
    "        return Q"
   ]
  },
  {
   "cell_type": "markdown",
   "metadata": {
    "collapsed": false
   },
   "source": [
    "## 4. 构建DQN算法、Agent和经验池"
   ]
  },
  {
   "cell_type": "code",
   "execution_count": 5,
   "metadata": {
    "collapsed": false
   },
   "outputs": [
    {
     "name": "stdout",
     "output_type": "stream",
     "text": [
      "pygame 2.0.1 (SDL 2.0.14, Python 3.7.4)\n",
      "Hello from the pygame community. https://www.pygame.org/contribute.html\n"
     ]
    }
   ],
   "source": [
    "# from parl.algorithms import DQN # 也可以直接从parl库中导入DQN算法\r\n",
    "import pygame\r\n",
    "\r\n",
    "class DQN(parl.Algorithm):\r\n",
    "    def __init__(self, model, act_dim=None, gamma=None, lr=None):\r\n",
    "        \"\"\" DQN algorithm\r\n",
    "        \r\n",
    "        Args:\r\n",
    "            model (parl.Model): 定义Q函数的前向网络结构\r\n",
    "            act_dim (int): action空间的维度，即有几个action\r\n",
    "            gamma (float): reward的衰减因子\r\n",
    "            lr (float): learning rate 学习率.\r\n",
    "        \"\"\"\r\n",
    "        self.model = model\r\n",
    "        self.target_model = copy.deepcopy(model)\r\n",
    "\r\n",
    "        assert isinstance(act_dim, int)\r\n",
    "        assert isinstance(gamma, float)\r\n",
    "        assert isinstance(lr, float)\r\n",
    "        self.act_dim = act_dim\r\n",
    "        self.gamma = gamma\r\n",
    "        self.lr = lr\r\n",
    "\r\n",
    "    def predict(self, obs):\r\n",
    "        \"\"\" 使用self.model的value网络来获取 [Q(s,a1),Q(s,a2),...]\r\n",
    "        \"\"\"\r\n",
    "        return self.model.value(obs)\r\n",
    "\r\n",
    "    def learn(self, obs, action, reward, next_obs, terminal):\r\n",
    "        \"\"\" 使用DQN算法更新self.model的value网络\r\n",
    "        \"\"\"\r\n",
    "        # 从target_model中获取 max Q' 的值，用于计算target_Q\r\n",
    "        next_pred_value = self.target_model.value(next_obs)\r\n",
    "        best_v = layers.reduce_max(next_pred_value, dim=1)\r\n",
    "        best_v.stop_gradient = True  # 阻止梯度传递\r\n",
    "        terminal = layers.cast(terminal, dtype='float32')\r\n",
    "        target = reward + (1.0 - terminal) * self.gamma * best_v\r\n",
    "\r\n",
    "        pred_value = self.model.value(obs)  # 获取Q预测值\r\n",
    "        # 将action转onehot向量，比如：3 => [0,0,0,1,0]\r\n",
    "        action_onehot = layers.one_hot(action, self.act_dim)\r\n",
    "        action_onehot = layers.cast(action_onehot, dtype='float32')\r\n",
    "        # 下面一行是逐元素相乘，拿到action对应的 Q(s,a)\r\n",
    "        # 比如：pred_value = [[2.3, 5.7, 1.2, 3.9, 1.4]], action_onehot = [[0,0,0,1,0]]\r\n",
    "        #  ==> pred_action_value = [[3.9]]\r\n",
    "        pred_action_value = layers.reduce_sum(\r\n",
    "            layers.elementwise_mul(action_onehot, pred_value), dim=1)\r\n",
    "\r\n",
    "        # 计算 Q(s,a) 与 target_Q的均方差，得到loss\r\n",
    "        cost = layers.square_error_cost(pred_action_value, target)\r\n",
    "        cost = layers.reduce_mean(cost)\r\n",
    "        optimizer = fluid.optimizer.Adam(learning_rate=self.lr)  # 使用Adam优化器\r\n",
    "        optimizer.minimize(cost)\r\n",
    "        return cost\r\n",
    "\r\n",
    "    def sync_target(self):\r\n",
    "        \"\"\" 把 self.model 的模型参数值同步到 self.target_model\r\n",
    "        \"\"\"\r\n",
    "        self.model.sync_weights_to(self.target_model)\r\n",
    "\r\n",
    "\r\n",
    "class Agent(parl.Agent):\r\n",
    "    def __init__(self,\r\n",
    "                 algorithm,\r\n",
    "                 obs_dim,\r\n",
    "                 act_dim,\r\n",
    "                 e_greed=0.1,\r\n",
    "                 e_greed_decrement=0):\r\n",
    "        assert isinstance(obs_dim, int)\r\n",
    "        assert isinstance(act_dim, int)\r\n",
    "        self.obs_dim = obs_dim\r\n",
    "        self.act_dim = act_dim\r\n",
    "        super(Agent, self).__init__(algorithm)\r\n",
    "\r\n",
    "        self.global_step = 0\r\n",
    "        self.update_target_steps = 200  # 每隔200个training steps再把model的参数复制到target_model中\r\n",
    "\r\n",
    "        self.e_greed = e_greed  # 有一定概率随机选取动作，探索\r\n",
    "        self.e_greed_decrement = e_greed_decrement  # 随着训练逐步收敛，探索的程度慢慢降低\r\n",
    "\r\n",
    "    def build_program(self):\r\n",
    "        self.pred_program = fluid.Program()\r\n",
    "        self.learn_program = fluid.Program()\r\n",
    "\r\n",
    "        with fluid.program_guard(self.pred_program):  # 搭建计算图用于 预测动作，定义输入输出变量\r\n",
    "            obs = layers.data(\r\n",
    "                name='obs', shape=[self.obs_dim], dtype='float32')\r\n",
    "            self.value = self.alg.predict(obs)\r\n",
    "\r\n",
    "        with fluid.program_guard(self.learn_program):  # 搭建计算图用于 更新Q网络，定义输入输出变量\r\n",
    "            obs = layers.data(\r\n",
    "                name='obs', shape=[self.obs_dim], dtype='float32')\r\n",
    "            action = layers.data(name='act', shape=[1], dtype='int32')\r\n",
    "            reward = layers.data(name='reward', shape=[], dtype='float32')\r\n",
    "            next_obs = layers.data(\r\n",
    "                name='next_obs', shape=[self.obs_dim], dtype='float32')\r\n",
    "            terminal = layers.data(name='terminal', shape=[], dtype='bool')\r\n",
    "            self.cost = self.alg.learn(obs, action, reward, next_obs, terminal)\r\n",
    "\r\n",
    "    def sample(self, obs):\r\n",
    "        sample = np.random.rand()  # 产生0~1之间的小数\r\n",
    "        if sample < self.e_greed:\r\n",
    "            act = np.random.randint(self.act_dim)  # 探索：每个动作都有概率被选择\r\n",
    "        else:\r\n",
    "            act = self.predict(obs)  # 选择最优动作\r\n",
    "        self.e_greed = max(\r\n",
    "            0.01, self.e_greed - self.e_greed_decrement)  # 随着训练逐步收敛，探索的程度慢慢降低\r\n",
    "        return act\r\n",
    "\r\n",
    "    def predict(self, obs):  # 选择最优动作\r\n",
    "        obs = np.expand_dims(obs, axis=0)\r\n",
    "        pred_Q = self.fluid_executor.run(\r\n",
    "            self.pred_program,\r\n",
    "            feed={'obs': obs.astype('float32')},\r\n",
    "            fetch_list=[self.value])[0]\r\n",
    "        pred_Q = np.squeeze(pred_Q, axis=0)\r\n",
    "        act = np.argmax(pred_Q)  # 选择Q最大的下标，即对应的动作\r\n",
    "        return act\r\n",
    "\r\n",
    "    def learn(self, obs, act, reward, next_obs, terminal):\r\n",
    "        # 每隔200个training steps同步一次model和target_model的参数\r\n",
    "        if self.global_step % self.update_target_steps == 0:\r\n",
    "            self.alg.sync_target()\r\n",
    "        self.global_step += 1\r\n",
    "\r\n",
    "        act = np.expand_dims(act, -1)\r\n",
    "        feed = {\r\n",
    "            'obs': obs.astype('float32'),\r\n",
    "            'act': act.astype('int32'),\r\n",
    "            'reward': reward,\r\n",
    "            'next_obs': next_obs.astype('float32'),\r\n",
    "            'terminal': terminal\r\n",
    "        }\r\n",
    "        cost = self.fluid_executor.run(\r\n",
    "            self.learn_program, feed=feed, fetch_list=[self.cost])[0]  # 训练一次网络\r\n",
    "        return cost\r\n",
    "\r\n",
    "\r\n",
    "\r\n",
    "class ReplayMemory(object):\r\n",
    "    def __init__(self, max_size):\r\n",
    "        self.buffer = collections.deque(maxlen=max_size)\r\n",
    "\r\n",
    "    # 增加一条经验到经验池中\r\n",
    "    def append(self, exp):\r\n",
    "        self.buffer.append(exp)\r\n",
    "\r\n",
    "    # 从经验池中选取N条经验出来\r\n",
    "    def sample(self, batch_size):\r\n",
    "        mini_batch = random.sample(self.buffer, batch_size)\r\n",
    "        obs_batch, action_batch, reward_batch, next_obs_batch, done_batch = [], [], [], [], []\r\n",
    "\r\n",
    "        for experience in mini_batch:\r\n",
    "            s, a, r, s_p, done = experience\r\n",
    "            obs_batch.append(s)\r\n",
    "            action_batch.append(a)\r\n",
    "            reward_batch.append(r)\r\n",
    "            next_obs_batch.append(s_p)\r\n",
    "            done_batch.append(done)\r\n",
    "\r\n",
    "        return np.array(obs_batch).astype('float32'), \\\r\n",
    "            np.array(action_batch).astype('float32'), np.array(reward_batch).astype('float32'),\\\r\n",
    "            np.array(next_obs_batch).astype('float32'), np.array(done_batch).astype('float32')\r\n",
    "\r\n",
    "    def __len__(self):\r\n",
    "        return len(self.buffer)\r\n",
    "\r\n",
    "\r\n",
    "# 训练一个episode\r\n",
    "def run_episode(env, agent, rpm, episode):\r\n",
    "    total_reward = 0\r\n",
    "    env.reset()\r\n",
    "    action = np.random.randint(0, env.action_num - 1)\r\n",
    "    obs, _, _ = env.next(action)\r\n",
    "    step = 0\r\n",
    "    while True:\r\n",
    "        step += 1\r\n",
    "        action = agent.sample(obs)  # 采样动作，所有动作都有概率被尝试到\r\n",
    "        next_obs, reward, done = env.next(action)\r\n",
    "        rpm.append((obs, action, reward, next_obs, done))\r\n",
    "\r\n",
    "        # train model\r\n",
    "        if (len(rpm) > MEMORY_WARMUP_SIZE) and (step % LEARN_FREQ == 0):\r\n",
    "            (batch_obs, batch_action, batch_reward, batch_next_obs,\r\n",
    "             batch_done) = rpm.sample(BATCH_SIZE)\r\n",
    "            train_loss = agent.learn(batch_obs, batch_action, batch_reward,\r\n",
    "                                     batch_next_obs,\r\n",
    "                                     batch_done)  # s,a,r,s',done\r\n",
    "\r\n",
    "        total_reward += reward\r\n",
    "        obs = next_obs\r\n",
    "        if done:\r\n",
    "            break\r\n",
    "        if not step % 20:\r\n",
    "            logger.info('step:{} e_greed:{} action:{} reward:{}'.format(\r\n",
    "                step, agent.e_greed, action, reward))\r\n",
    "        if not step % 500:\r\n",
    "            image = pygame.surfarray.array3d(\r\n",
    "                 pygame.display.get_surface()).copy()\r\n",
    "            image = np.flip(image[:, :, [2, 1, 0]], 0)\r\n",
    "            image = np.rot90(image, 3)\r\n",
    "            img_pt = os.path.join('outputs', 'snapshoot_{}_{}.jpg'.format(episode, step))\r\n",
    "            cv2.imwrite(img_pt, image)\r\n",
    "    return total_reward"
   ]
  },
  {
   "cell_type": "markdown",
   "metadata": {
    "collapsed": false
   },
   "source": [
    "## 5. 创建Agent实例"
   ]
  },
  {
   "cell_type": "code",
   "execution_count": null,
   "metadata": {
    "collapsed": false
   },
   "outputs": [
    {
     "name": "stdout",
     "output_type": "stream",
     "text": [
      "\u001b[32m[02-20 22:45:25 MainThread @machine_info.py:86]\u001b[0m nvidia-smi -L found gpu count: 1\n",
      "\u001b[32m[02-20 22:45:25 MainThread @machine_info.py:86]\u001b[0m nvidia-smi -L found gpu count: 1\n"
     ]
    }
   ],
   "source": [
    "from State2NN import AI_Board\r\n",
    "\r\n",
    "env = AI_Board()  \r\n",
    "action_dim = env.action_num  \r\n",
    "obs_shape = 16 * 13  \r\n",
    "e_greed = 0.2\r\n",
    "\r\n",
    "rpm = ReplayMemory(MEMORY_SIZE)  # DQN的经验回放池\r\n",
    "\r\n",
    "# 根据parl框架构建agent\r\n",
    "model = Model(act_dim=action_dim)\r\n",
    "algorithm = DQN(model, act_dim=action_dim, gamma=GAMMA, lr=LEARNING_RATE)\r\n",
    "agent = Agent(\r\n",
    "    algorithm,\r\n",
    "    obs_dim=obs_shape,\r\n",
    "    act_dim=action_dim,\r\n",
    "    e_greed=e_greed,  # 有一定概率随机选取动作，探索\r\n",
    "    e_greed_decrement=1e-6)  # 随着训练逐步收敛，探索的程度慢慢降低"
   ]
  },
  {
   "cell_type": "markdown",
   "metadata": {
    "collapsed": false
   },
   "source": [
    "## 6. 训练模型"
   ]
  },
  {
   "cell_type": "code",
   "execution_count": null,
   "metadata": {
    "collapsed": false
   },
   "outputs": [],
   "source": [
    "from State2NN import AI_Board\r\n",
    "import os\r\n",
    "\r\n",
    "dirs = ['weights', 'outputs']\r\n",
    "for d in dirs:\r\n",
    "    if not os.path.exists(d):\r\n",
    "        os.mkdir(d)\r\n",
    "\r\n",
    "# 加载模型\r\n",
    "# save_path = './dqn_model.ckpt'\r\n",
    "# agent.restore(save_path)\r\n",
    "\r\n",
    "# 先往经验池里存一些数据，避免最开始训练的时候样本丰富度不够\r\n",
    "while len(rpm) < MEMORY_WARMUP_SIZE:\r\n",
    "    run_episode(env, agent, rpm, episode=0)\r\n",
    "\r\n",
    "max_episode = 2000\r\n",
    "\r\n",
    "# 开始训练\r\n",
    "episode = 0\r\n",
    "while episode < max_episode:  # 训练max_episode个回合，test部分不计算入episode数量\r\n",
    "    # train part\r\n",
    "    for i in range(0, 50):\r\n",
    "        total_reward = run_episode(env, agent, rpm, episode+1)\r\n",
    "        episode += 1\r\n",
    "        save_path = './weights/dqn_model_episode_{}.ckpt'.format(episode)\r\n",
    "        agent.save(save_path)\r\n",
    "        print('-[INFO] episode:{}, model saved at {}'.format(episode, save_path))\r\n",
    "        env.reset()\r\n",
    "\r\n",
    "# 训练结束，保存模型\r\n",
    "save_path = './final.ckpt'\r\n",
    "agent.save(save_path)"
   ]
  },
  {
   "cell_type": "markdown",
   "metadata": {
    "collapsed": false
   },
   "source": [
    "## 7. 游戏环境补充说明\n",
    "\n"
   ]
  },
  {
   "cell_type": "markdown",
   "metadata": {
    "collapsed": false
   },
   "source": [
    "### 7.1 游戏共有11种水果：\n",
    "\n",
    "![](https://ai-studio-static-online.cdn.bcebos.com/6758c92fb70e4b59904cd0d39b7e8b4e9c70943c4f9046129f289c8e8b52ecf5)\n",
    "\n",
    "### 7.2 碰撞检测：\n",
    "\n",
    "\n",
    "```python\n",
    "def setup_collision_handler(self):\n",
    "        def post_solve_bird_line(arbiter, space, data):\n",
    "            if not self.lock:\n",
    "                self.lock = True\n",
    "                b1, b2 = None, None\n",
    "                i = arbiter.shapes[0].collision_type + 1\n",
    "                x1, y1 = arbiter.shapes[0].body.position\n",
    "                x2, y2 = arbiter.shapes[1].body.position\n",
    "```\n",
    "\n",
    "### 7.3 奖励机制：\n",
    "\n",
    "每合成一种水果，reward加相应的分数\n",
    "\n",
    "\n",
    "| 水果 | 分数 |\n",
    "| -------- | -------- |\n",
    "| 樱桃     | 2     |\n",
    "| 橘子     | 3     |\n",
    "| ...     | ...     |\n",
    "| 西瓜     | 10     |\n",
    "| 大西瓜     | 100     |\n",
    "\n",
    "```python\n",
    "if i < 11:\n",
    "\tself.last_score = self.score\n",
    "\tself.score += i\n",
    "elif i == 11:\n",
    "\tself.last_score = self.score\n",
    "\tself.score += 100\n",
    "```\n",
    "\n",
    "\n",
    "### 7.4 惩罚机制:\n",
    "\n",
    "如果一次action后 1s（即新旧水果生成间隔）没有成功合成水果，则reward减去放下水果的分数\n",
    "\n",
    "```python\n",
    "_, reward, _ = self.next_frame(action=action)\n",
    "for _ in range(int(self.create_time * self.FPS)):\n",
    "\t_, nreward, _ = self.next_frame(action=None, generate=False)\n",
    "\treward += nreward\n",
    "\tif reward == 0:\n",
    "\t\treward = -i\n",
    "```\n",
    "\n",
    "### 7.5 输入特征：\n",
    "\n",
    "之前的版本(https://aistudio.baidu.com/aistudio/projectdetail/1540300)输入特征为游戏截图，采用ResNet提取特征\n",
    "\n",
    "但是直接原图输入使得模型很难学习到有效的特征\n",
    "\n",
    "因此新版本使用pygame接口获取当前状态\n",
    "\n",
    "```python\n",
    "def get_feature(self, N_class=12, Keep=15):\n",
    "        # 特征工程\n",
    "        c_t = self.i\n",
    "        # 自身类别\n",
    "        feature_t = np.zeros((1, N_class + 1), dtype=np.float)\n",
    "        feature_t[0, c_t] = 1.\n",
    "        feature_t[0, 0] = 0.5\n",
    "        feature_p = np.zeros((Keep, N_class + 1), dtype=np.float)\n",
    "        Xcs = []\n",
    "        Ycs = []\n",
    "        Ts = []\n",
    "        for i, ball in enumerate(self.balls):\n",
    "            if ball:\n",
    "                x = int(ball.body.position[0])\n",
    "                y = int(ball.body.position[1])\n",
    "                t = self.fruits[i].type\n",
    "                Xcs.append(x/self.WIDTH)\n",
    "                Ycs.append(y/self.HEIGHT)\n",
    "                Ts.append(t)\n",
    "        sorted_id = sorted_index(Ycs)\n",
    "        for i, id_ in enumerate(sorted_id):\n",
    "            if i == Keep:\n",
    "                break\n",
    "            feature_p[i, Ts[id_]] = 1.\n",
    "            feature_p[i, 0] = Xcs[id_]\n",
    "            feature_p[i, -1] = Ycs[id_]\n",
    "            \n",
    "        image = np.concatenate((feature_t, feature_p), axis=0)\n",
    "        return image\n",
    "```\n",
    "\n",
    "注：N_class = 水果类别数 + 1\n",
    "\n",
    "#### feature_t：\n",
    "> 用于表示当前手中水果类别的ont-hot向量；\n",
    "\n",
    "#### feature_p：\n",
    "\n",
    "> 用于表示当前游戏状态，大小为(Keep, N_class + 1)\n",
    "\n",
    "> Keep 表示只关注当前位置最高的 Keep 个水果\n",
    "\n",
    "> N_class - 1 是某个水果类别的ont-hot向量， 0 位置为 x 坐标，-1 位置为 y 坐标（归一化）\n",
    "\n",
    "目前用的就是这些个特征。。。"
   ]
  },
  {
   "cell_type": "markdown",
   "metadata": {
    "collapsed": false
   },
   "source": [
    "# 张老板来了hahh，老板大气（滑稽.jpg）"
   ]
  },
  {
   "cell_type": "markdown",
   "metadata": {
    "collapsed": false
   },
   "source": [
    "## 8. 我的公众号\n",
    "\n",
    "![](https://ai-studio-static-online.cdn.bcebos.com/581bcc5e56594107859b2a8ccebba0e9938d10759d8242e689ae64680ab94150)\n"
   ]
  }
 ],
 "metadata": {
  "kernelspec": {
   "display_name": "PaddlePaddle 1.8.0 (Python 3.5)",
   "language": "python",
   "name": "py35-paddle1.2.0"
  }
 },
 "nbformat": 4,
 "nbformat_minor": 1
}
